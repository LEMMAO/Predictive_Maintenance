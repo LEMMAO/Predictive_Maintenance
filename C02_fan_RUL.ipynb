{
  "nbformat": 4,
  "nbformat_minor": 0,
  "metadata": {
    "colab": {
      "name": "C02 fan RUL.ipynb",
      "provenance": [],
      "collapsed_sections": [],
      "toc_visible": true,
      "authorship_tag": "ABX9TyMASSb5pyNREXBaOJXAMtF4",
      "include_colab_link": true
    },
    "kernelspec": {
      "name": "python3",
      "display_name": "Python 3"
    },
    "language_info": {
      "name": "python"
    }
  },
  "cells": [
    {
      "cell_type": "markdown",
      "metadata": {
        "id": "view-in-github",
        "colab_type": "text"
      },
      "source": [
        "<a href=\"https://colab.research.google.com/github/LEMMAO/Predictive_Maintenance/blob/main/C02_fan_RUL.ipynb\" target=\"_parent\"><img src=\"https://colab.research.google.com/assets/colab-badge.svg\" alt=\"Open In Colab\"/></a>"
      ]
    },
    {
      "cell_type": "code",
      "metadata": {
        "id": "ZVWwx2zt5rFs"
      },
      "source": [
        "import pandas as pd\n",
        "import numpy as np\n",
        "import matplotlib.pyplot as plt\n",
        "import seaborn as sns\n",
        "%matplotlib inline"
      ],
      "execution_count": null,
      "outputs": []
    },
    {
      "cell_type": "code",
      "metadata": {
        "colab": {
          "base_uri": "https://localhost:8080/",
          "height": 304
        },
        "id": "JdKBY7nm9oOy",
        "outputId": "752e6802-41f9-4813-c859-3301b4e8a33d"
      },
      "source": [
        "dataframe = pd.read_csv('/content/C02 sensors.csv', index_col=False, encoding='iso-8859-1', nrows=11739,\n",
        "                        warn_bad_lines=True, error_bad_lines=False)\n",
        "dataframe.head()"
      ],
      "execution_count": null,
      "outputs": [
        {
          "output_type": "execute_result",
          "data": {
            "text/html": [
              "<div>\n",
              "<style scoped>\n",
              "    .dataframe tbody tr th:only-of-type {\n",
              "        vertical-align: middle;\n",
              "    }\n",
              "\n",
              "    .dataframe tbody tr th {\n",
              "        vertical-align: top;\n",
              "    }\n",
              "\n",
              "    .dataframe thead th {\n",
              "        text-align: right;\n",
              "    }\n",
              "</style>\n",
              "<table border=\"1\" class=\"dataframe\">\n",
              "  <thead>\n",
              "    <tr style=\"text-align: right;\">\n",
              "      <th></th>\n",
              "      <th>DATE</th>\n",
              "      <th>TIME</th>\n",
              "      <th>TIME ZONE</th>\n",
              "      <th>EAU ACIDILE D10</th>\n",
              "      <th>VIBRATION PAL1 C02 (MM/S)</th>\n",
              "      <th>VIBRATION PAL1 C02 (MM/S).1</th>\n",
              "      <th>TEMP PALIER1 C02 (DEGC)</th>\n",
              "      <th>TEMP PALIER2 C02 (DEGC)</th>\n",
              "      <th>C02M (A)</th>\n",
              "    </tr>\n",
              "  </thead>\n",
              "  <tbody>\n",
              "    <tr>\n",
              "      <th>0</th>\n",
              "      <td>5/29/2021</td>\n",
              "      <td>12:22:10</td>\n",
              "      <td>Morocco Standard Time</td>\n",
              "      <td>88.0</td>\n",
              "      <td>2.0</td>\n",
              "      <td>4.0</td>\n",
              "      <td>42.0</td>\n",
              "      <td>49.0</td>\n",
              "      <td>31.0</td>\n",
              "    </tr>\n",
              "    <tr>\n",
              "      <th>1</th>\n",
              "      <td>5/29/2021</td>\n",
              "      <td>12:23:10</td>\n",
              "      <td>Morocco Standard Time</td>\n",
              "      <td>88.0</td>\n",
              "      <td>2.0</td>\n",
              "      <td>4.0</td>\n",
              "      <td>42.0</td>\n",
              "      <td>49.0</td>\n",
              "      <td>31.0</td>\n",
              "    </tr>\n",
              "    <tr>\n",
              "      <th>2</th>\n",
              "      <td>5/29/2021</td>\n",
              "      <td>12:24:10</td>\n",
              "      <td>Morocco Standard Time</td>\n",
              "      <td>88.0</td>\n",
              "      <td>2.0</td>\n",
              "      <td>4.0</td>\n",
              "      <td>42.0</td>\n",
              "      <td>49.0</td>\n",
              "      <td>31.0</td>\n",
              "    </tr>\n",
              "    <tr>\n",
              "      <th>3</th>\n",
              "      <td>5/29/2021</td>\n",
              "      <td>12:25:10</td>\n",
              "      <td>Morocco Standard Time</td>\n",
              "      <td>88.0</td>\n",
              "      <td>2.0</td>\n",
              "      <td>4.0</td>\n",
              "      <td>42.0</td>\n",
              "      <td>49.0</td>\n",
              "      <td>31.0</td>\n",
              "    </tr>\n",
              "    <tr>\n",
              "      <th>4</th>\n",
              "      <td>5/29/2021</td>\n",
              "      <td>12:26:10</td>\n",
              "      <td>Morocco Standard Time</td>\n",
              "      <td>88.0</td>\n",
              "      <td>2.0</td>\n",
              "      <td>4.0</td>\n",
              "      <td>42.0</td>\n",
              "      <td>49.0</td>\n",
              "      <td>31.0</td>\n",
              "    </tr>\n",
              "  </tbody>\n",
              "</table>\n",
              "</div>"
            ],
            "text/plain": [
              "        DATE      TIME  ... TEMP PALIER2 C02 (DEGC)  C02M (A)\n",
              "0  5/29/2021  12:22:10  ...                    49.0      31.0\n",
              "1  5/29/2021  12:23:10  ...                    49.0      31.0\n",
              "2  5/29/2021  12:24:10  ...                    49.0      31.0\n",
              "3  5/29/2021  12:25:10  ...                    49.0      31.0\n",
              "4  5/29/2021  12:26:10  ...                    49.0      31.0\n",
              "\n",
              "[5 rows x 9 columns]"
            ]
          },
          "metadata": {
            "tags": []
          },
          "execution_count": 34
        }
      ]
    },
    {
      "cell_type": "code",
      "metadata": {
        "colab": {
          "base_uri": "https://localhost:8080/"
        },
        "id": "gS-_lpDB95Yd",
        "outputId": "6b707da0-61d8-4193-8fb0-d2003cc5db03"
      },
      "source": [
        "dataframe.info()"
      ],
      "execution_count": null,
      "outputs": [
        {
          "output_type": "stream",
          "text": [
            "<class 'pandas.core.frame.DataFrame'>\n",
            "Int64Index: 11736 entries, 0 to 11738\n",
            "Data columns (total 9 columns):\n",
            " #   Column                       Non-Null Count  Dtype  \n",
            "---  ------                       --------------  -----  \n",
            " 0   DATE                         11736 non-null  object \n",
            " 1   TIME                         11736 non-null  object \n",
            " 2   TIME ZONE                    11736 non-null  object \n",
            " 3   EAU ACIDILE D10              11736 non-null  float64\n",
            " 4   VIBRATION PAL1 C02 (MM/S)    11736 non-null  float64\n",
            " 5   VIBRATION PAL1 C02 (MM/S).1  11736 non-null  float64\n",
            " 6   TEMP PALIER1 C02 (DEGC)      11736 non-null  float64\n",
            " 7   TEMP PALIER2 C02 (DEGC)      11736 non-null  float64\n",
            " 8   C02M (A)                     11736 non-null  float64\n",
            "dtypes: float64(6), object(3)\n",
            "memory usage: 916.9+ KB\n"
          ],
          "name": "stdout"
        }
      ]
    },
    {
      "cell_type": "code",
      "metadata": {
        "colab": {
          "base_uri": "https://localhost:8080/",
          "height": 312
        },
        "id": "2TuNMQ5o-Hog",
        "outputId": "2062cde7-f001-44cf-d231-1b15c0adb00e"
      },
      "source": [
        "dataframe.describe()"
      ],
      "execution_count": null,
      "outputs": [
        {
          "output_type": "execute_result",
          "data": {
            "text/html": [
              "<div>\n",
              "<style scoped>\n",
              "    .dataframe tbody tr th:only-of-type {\n",
              "        vertical-align: middle;\n",
              "    }\n",
              "\n",
              "    .dataframe tbody tr th {\n",
              "        vertical-align: top;\n",
              "    }\n",
              "\n",
              "    .dataframe thead th {\n",
              "        text-align: right;\n",
              "    }\n",
              "</style>\n",
              "<table border=\"1\" class=\"dataframe\">\n",
              "  <thead>\n",
              "    <tr style=\"text-align: right;\">\n",
              "      <th></th>\n",
              "      <th>EAU ACIDILE D10</th>\n",
              "      <th>VIBRATION PAL1 C02 (MM/S)</th>\n",
              "      <th>VIBRATION PAL1 C02 (MM/S).1</th>\n",
              "      <th>TEMP PALIER1 C02 (DEGC)</th>\n",
              "      <th>TEMP PALIER2 C02 (DEGC)</th>\n",
              "      <th>C02M (A)</th>\n",
              "      <th>rolling_avg</th>\n",
              "    </tr>\n",
              "  </thead>\n",
              "  <tbody>\n",
              "    <tr>\n",
              "      <th>count</th>\n",
              "      <td>11720.000000</td>\n",
              "      <td>11720.000000</td>\n",
              "      <td>11720.000000</td>\n",
              "      <td>11720.0</td>\n",
              "      <td>11720.000000</td>\n",
              "      <td>11720.000000</td>\n",
              "      <td>11720.000000</td>\n",
              "    </tr>\n",
              "    <tr>\n",
              "      <th>mean</th>\n",
              "      <td>44.322952</td>\n",
              "      <td>1.998720</td>\n",
              "      <td>3.751621</td>\n",
              "      <td>42.0</td>\n",
              "      <td>46.100000</td>\n",
              "      <td>29.382082</td>\n",
              "      <td>29.383089</td>\n",
              "    </tr>\n",
              "    <tr>\n",
              "      <th>std</th>\n",
              "      <td>22.132190</td>\n",
              "      <td>0.049729</td>\n",
              "      <td>0.441855</td>\n",
              "      <td>0.0</td>\n",
              "      <td>6.925289</td>\n",
              "      <td>3.307350</td>\n",
              "      <td>3.273468</td>\n",
              "    </tr>\n",
              "    <tr>\n",
              "      <th>min</th>\n",
              "      <td>0.000000</td>\n",
              "      <td>0.000000</td>\n",
              "      <td>0.000000</td>\n",
              "      <td>42.0</td>\n",
              "      <td>38.000000</td>\n",
              "      <td>0.000000</td>\n",
              "      <td>0.000000</td>\n",
              "    </tr>\n",
              "    <tr>\n",
              "      <th>25%</th>\n",
              "      <td>30.000000</td>\n",
              "      <td>2.000000</td>\n",
              "      <td>4.000000</td>\n",
              "      <td>42.0</td>\n",
              "      <td>42.000000</td>\n",
              "      <td>29.000000</td>\n",
              "      <td>29.000000</td>\n",
              "    </tr>\n",
              "    <tr>\n",
              "      <th>50%</th>\n",
              "      <td>49.000000</td>\n",
              "      <td>2.000000</td>\n",
              "      <td>4.000000</td>\n",
              "      <td>42.0</td>\n",
              "      <td>44.000000</td>\n",
              "      <td>30.000000</td>\n",
              "      <td>30.000000</td>\n",
              "    </tr>\n",
              "    <tr>\n",
              "      <th>75%</th>\n",
              "      <td>60.000000</td>\n",
              "      <td>2.000000</td>\n",
              "      <td>4.000000</td>\n",
              "      <td>42.0</td>\n",
              "      <td>47.000000</td>\n",
              "      <td>31.000000</td>\n",
              "      <td>31.000000</td>\n",
              "    </tr>\n",
              "    <tr>\n",
              "      <th>max</th>\n",
              "      <td>89.000000</td>\n",
              "      <td>2.000000</td>\n",
              "      <td>7.000000</td>\n",
              "      <td>42.0</td>\n",
              "      <td>65.000000</td>\n",
              "      <td>36.000000</td>\n",
              "      <td>36.000000</td>\n",
              "    </tr>\n",
              "  </tbody>\n",
              "</table>\n",
              "</div>"
            ],
            "text/plain": [
              "       EAU ACIDILE D10  VIBRATION PAL1 C02 (MM/S)  ...      C02M (A)   rolling_avg\n",
              "count     11720.000000               11720.000000  ...  11720.000000  11720.000000\n",
              "mean         44.322952                   1.998720  ...     29.382082     29.383089\n",
              "std          22.132190                   0.049729  ...      3.307350      3.273468\n",
              "min           0.000000                   0.000000  ...      0.000000      0.000000\n",
              "25%          30.000000                   2.000000  ...     29.000000     29.000000\n",
              "50%          49.000000                   2.000000  ...     30.000000     30.000000\n",
              "75%          60.000000                   2.000000  ...     31.000000     31.000000\n",
              "max          89.000000                   2.000000  ...     36.000000     36.000000\n",
              "\n",
              "[8 rows x 7 columns]"
            ]
          },
          "metadata": {
            "tags": []
          },
          "execution_count": 44
        }
      ]
    },
    {
      "cell_type": "code",
      "metadata": {
        "id": "H7FYxiUMB8YJ"
      },
      "source": [
        ""
      ],
      "execution_count": null,
      "outputs": []
    },
    {
      "cell_type": "code",
      "metadata": {
        "id": "bATxeyxWBy8u"
      },
      "source": [
        "\n",
        "dataframe.dropna(axis=1, how=\"any\", thresh=None, subset=None, inplace=True)\n"
      ],
      "execution_count": null,
      "outputs": []
    },
    {
      "cell_type": "code",
      "metadata": {
        "colab": {
          "base_uri": "https://localhost:8080/"
        },
        "id": "5ILmaGT0-1HU",
        "outputId": "28ee20c8-ad98-480d-b6f1-c8fbd7152b72"
      },
      "source": [
        "dataframe.isnull().sum()"
      ],
      "execution_count": null,
      "outputs": [
        {
          "output_type": "execute_result",
          "data": {
            "text/plain": [
              "DATE                           0\n",
              "TIME                           0\n",
              "TIME ZONE                      0\n",
              "EAU ACIDILE D10                0\n",
              "VIBRATION PAL1 C02 (MM/S)      0\n",
              "VIBRATION PAL1 C02 (MM/S).1    0\n",
              "TEMP PALIER1 C02 (DEGC)        0\n",
              "TEMP PALIER2 C02 (DEGC)        0\n",
              "C02M (A)                       0\n",
              "rolling_avg                    0\n",
              "dtype: int64"
            ]
          },
          "metadata": {
            "tags": []
          },
          "execution_count": 43
        }
      ]
    },
    {
      "cell_type": "code",
      "metadata": {
        "colab": {
          "base_uri": "https://localhost:8080/",
          "height": 762
        },
        "id": "zPqA4STw_JtI",
        "outputId": "85a8780b-ce02-40ed-c863-fd1eecac5185"
      },
      "source": [
        "g,ax=plt.subplots(1,1, figsize=(30,20))\n",
        "dataframe['rolling_avg'] = dataframe['C02M (A)'].rolling(window = 5).mean()\n",
        "dataframe['rolling_avg'].plot(y='TIME', kind = \"line\", ax = ax)"
      ],
      "execution_count": null,
      "outputs": [
        {
          "output_type": "execute_result",
          "data": {
            "text/plain": [
              "<matplotlib.axes._subplots.AxesSubplot at 0x7f5e4e0609d0>"
            ]
          },
          "metadata": {
            "tags": []
          },
          "execution_count": 45
        },
        {
          "output_type": "display_data",
          "data": {
            "image/png": "[encoded data removed]",
            "text/plain": [
              "<Figure size 2160x1440 with 1 Axes>"
            ]
          },
          "metadata": {
            "tags": [],
            "needs_background": "light"
          }
        }
      ]
    },
    {
      "cell_type": "code",
      "metadata": {
        "colab": {
          "base_uri": "https://localhost:8080/",
          "height": 250
        },
        "id": "_PP414mg_9Qq",
        "outputId": "1b727fe6-40db-475c-84d1-d05534919529"
      },
      "source": [
        "std_df= dataframe.groupby('TIME').std()\n",
        "std_df.head()"
      ],
      "execution_count": null,
      "outputs": [
        {
          "output_type": "execute_result",
          "data": {
            "text/html": [
              "<div>\n",
              "<style scoped>\n",
              "    .dataframe tbody tr th:only-of-type {\n",
              "        vertical-align: middle;\n",
              "    }\n",
              "\n",
              "    .dataframe tbody tr th {\n",
              "        vertical-align: top;\n",
              "    }\n",
              "\n",
              "    .dataframe thead th {\n",
              "        text-align: right;\n",
              "    }\n",
              "</style>\n",
              "<table border=\"1\" class=\"dataframe\">\n",
              "  <thead>\n",
              "    <tr style=\"text-align: right;\">\n",
              "      <th></th>\n",
              "      <th>EAU ACIDILE D10</th>\n",
              "      <th>VIBRATION PAL1 C02 (MM/S)</th>\n",
              "      <th>VIBRATION PAL1 C02 (MM/S).1</th>\n",
              "      <th>TEMP PALIER1 C02 (DEGC)</th>\n",
              "      <th>TEMP PALIER2 C02 (DEGC)</th>\n",
              "      <th>C02M (A)</th>\n",
              "      <th>rolling_avg</th>\n",
              "    </tr>\n",
              "    <tr>\n",
              "      <th>TIME</th>\n",
              "      <th></th>\n",
              "      <th></th>\n",
              "      <th></th>\n",
              "      <th></th>\n",
              "      <th></th>\n",
              "      <th></th>\n",
              "      <th></th>\n",
              "    </tr>\n",
              "  </thead>\n",
              "  <tbody>\n",
              "    <tr>\n",
              "      <th>0:00:10</th>\n",
              "      <td>24.201535</td>\n",
              "      <td>0.0</td>\n",
              "      <td>0.462910</td>\n",
              "      <td>0.0</td>\n",
              "      <td>6.034129</td>\n",
              "      <td>1.685018</td>\n",
              "      <td>1.476482</td>\n",
              "    </tr>\n",
              "    <tr>\n",
              "      <th>0:01:10</th>\n",
              "      <td>24.215919</td>\n",
              "      <td>0.0</td>\n",
              "      <td>0.462910</td>\n",
              "      <td>0.0</td>\n",
              "      <td>6.034129</td>\n",
              "      <td>1.685018</td>\n",
              "      <td>1.558158</td>\n",
              "    </tr>\n",
              "    <tr>\n",
              "      <th>0:02:10</th>\n",
              "      <td>23.970220</td>\n",
              "      <td>0.0</td>\n",
              "      <td>0.000000</td>\n",
              "      <td>0.0</td>\n",
              "      <td>6.034129</td>\n",
              "      <td>1.685018</td>\n",
              "      <td>1.594410</td>\n",
              "    </tr>\n",
              "    <tr>\n",
              "      <th>0:03:10</th>\n",
              "      <td>24.106905</td>\n",
              "      <td>0.0</td>\n",
              "      <td>0.462910</td>\n",
              "      <td>0.0</td>\n",
              "      <td>6.034129</td>\n",
              "      <td>1.125992</td>\n",
              "      <td>1.519163</td>\n",
              "    </tr>\n",
              "    <tr>\n",
              "      <th>0:04:10</th>\n",
              "      <td>23.886263</td>\n",
              "      <td>0.0</td>\n",
              "      <td>0.353553</td>\n",
              "      <td>0.0</td>\n",
              "      <td>6.034129</td>\n",
              "      <td>1.164965</td>\n",
              "      <td>1.442221</td>\n",
              "    </tr>\n",
              "  </tbody>\n",
              "</table>\n",
              "</div>"
            ],
            "text/plain": [
              "         EAU ACIDILE D10  VIBRATION PAL1 C02 (MM/S)  ...  C02M (A)  rolling_avg\n",
              "TIME                                                 ...                       \n",
              "0:00:10        24.201535                        0.0  ...  1.685018     1.476482\n",
              "0:01:10        24.215919                        0.0  ...  1.685018     1.558158\n",
              "0:02:10        23.970220                        0.0  ...  1.685018     1.594410\n",
              "0:03:10        24.106905                        0.0  ...  1.125992     1.519163\n",
              "0:04:10        23.886263                        0.0  ...  1.164965     1.442221\n",
              "\n",
              "[5 rows x 7 columns]"
            ]
          },
          "metadata": {
            "tags": []
          },
          "execution_count": 46
        }
      ]
    },
    {
      "cell_type": "code",
      "metadata": {
        "colab": {
          "base_uri": "https://localhost:8080/",
          "height": 555
        },
        "id": "_6Vhq2RtD6YB",
        "outputId": "a6639e9e-234c-451e-d407-c9c3677e5e4e"
      },
      "source": [
        "sns.scatterplot(x = dataframe['VIBRATION PAL1 C02.1 (MM/S).1'], y = dataframe['TIME'])"
      ],
      "execution_count": null,
      "outputs": [
        {
          "output_type": "error",
          "ename": "KeyError",
          "evalue": "ignored",
          "traceback": [
            "\u001b[0;31m---------------------------------------------------------------------------\u001b[0m",
            "\u001b[0;31mKeyError\u001b[0m                                  Traceback (most recent call last)",
            "\u001b[0;32m/usr/local/lib/python3.7/dist-packages/pandas/core/indexes/base.py\u001b[0m in \u001b[0;36mget_loc\u001b[0;34m(self, key, method, tolerance)\u001b[0m\n\u001b[1;32m   2897\u001b[0m             \u001b[0;32mtry\u001b[0m\u001b[0;34m:\u001b[0m\u001b[0;34m\u001b[0m\u001b[0;34m\u001b[0m\u001b[0m\n\u001b[0;32m-> 2898\u001b[0;31m                 \u001b[0;32mreturn\u001b[0m \u001b[0mself\u001b[0m\u001b[0;34m.\u001b[0m\u001b[0m_engine\u001b[0m\u001b[0;34m.\u001b[0m\u001b[0mget_loc\u001b[0m\u001b[0;34m(\u001b[0m\u001b[0mcasted_key\u001b[0m\u001b[0;34m)\u001b[0m\u001b[0;34m\u001b[0m\u001b[0;34m\u001b[0m\u001b[0m\n\u001b[0m\u001b[1;32m   2899\u001b[0m             \u001b[0;32mexcept\u001b[0m \u001b[0mKeyError\u001b[0m \u001b[0;32mas\u001b[0m \u001b[0merr\u001b[0m\u001b[0;34m:\u001b[0m\u001b[0;34m\u001b[0m\u001b[0;34m\u001b[0m\u001b[0m\n",
            "\u001b[0;32mpandas/_libs/index.pyx\u001b[0m in \u001b[0;36mpandas._libs.index.IndexEngine.get_loc\u001b[0;34m()\u001b[0m\n",
            "\u001b[0;32mpandas/_libs/index.pyx\u001b[0m in \u001b[0;36mpandas._libs.index.IndexEngine.get_loc\u001b[0;34m()\u001b[0m\n",
            "\u001b[0;32mpandas/_libs/hashtable_class_helper.pxi\u001b[0m in \u001b[0;36mpandas._libs.hashtable.PyObjectHashTable.get_item\u001b[0;34m()\u001b[0m\n",
            "\u001b[0;32mpandas/_libs/hashtable_class_helper.pxi\u001b[0m in \u001b[0;36mpandas._libs.hashtable.PyObjectHashTable.get_item\u001b[0;34m()\u001b[0m\n",
            "\u001b[0;31mKeyError\u001b[0m: 'VIBRATION PAL1 C02.1 (MM/S).1'",
            "\nThe above exception was the direct cause of the following exception:\n",
            "\u001b[0;31mKeyError\u001b[0m                                  Traceback (most recent call last)",
            "\u001b[0;32m<ipython-input-51-65c25f1701b1>\u001b[0m in \u001b[0;36m<module>\u001b[0;34m()\u001b[0m\n\u001b[0;32m----> 1\u001b[0;31m \u001b[0msns\u001b[0m\u001b[0;34m.\u001b[0m\u001b[0mscatterplot\u001b[0m\u001b[0;34m(\u001b[0m\u001b[0mx\u001b[0m \u001b[0;34m=\u001b[0m \u001b[0mdataframe\u001b[0m\u001b[0;34m[\u001b[0m\u001b[0;34m'VIBRATION PAL1 C02.1 (MM/S).1'\u001b[0m\u001b[0;34m]\u001b[0m\u001b[0;34m,\u001b[0m \u001b[0my\u001b[0m \u001b[0;34m=\u001b[0m \u001b[0mdataframe\u001b[0m\u001b[0;34m[\u001b[0m\u001b[0;34m'TIME'\u001b[0m\u001b[0;34m]\u001b[0m\u001b[0;34m)\u001b[0m\u001b[0;34m\u001b[0m\u001b[0;34m\u001b[0m\u001b[0m\n\u001b[0m",
            "\u001b[0;32m/usr/local/lib/python3.7/dist-packages/pandas/core/frame.py\u001b[0m in \u001b[0;36m__getitem__\u001b[0;34m(self, key)\u001b[0m\n\u001b[1;32m   2904\u001b[0m             \u001b[0;32mif\u001b[0m \u001b[0mself\u001b[0m\u001b[0;34m.\u001b[0m\u001b[0mcolumns\u001b[0m\u001b[0;34m.\u001b[0m\u001b[0mnlevels\u001b[0m \u001b[0;34m>\u001b[0m \u001b[0;36m1\u001b[0m\u001b[0;34m:\u001b[0m\u001b[0;34m\u001b[0m\u001b[0;34m\u001b[0m\u001b[0m\n\u001b[1;32m   2905\u001b[0m                 \u001b[0;32mreturn\u001b[0m \u001b[0mself\u001b[0m\u001b[0;34m.\u001b[0m\u001b[0m_getitem_multilevel\u001b[0m\u001b[0;34m(\u001b[0m\u001b[0mkey\u001b[0m\u001b[0;34m)\u001b[0m\u001b[0;34m\u001b[0m\u001b[0;34m\u001b[0m\u001b[0m\n\u001b[0;32m-> 2906\u001b[0;31m             \u001b[0mindexer\u001b[0m \u001b[0;34m=\u001b[0m \u001b[0mself\u001b[0m\u001b[0;34m.\u001b[0m\u001b[0mcolumns\u001b[0m\u001b[0;34m.\u001b[0m\u001b[0mget_loc\u001b[0m\u001b[0;34m(\u001b[0m\u001b[0mkey\u001b[0m\u001b[0;34m)\u001b[0m\u001b[0;34m\u001b[0m\u001b[0;34m\u001b[0m\u001b[0m\n\u001b[0m\u001b[1;32m   2907\u001b[0m             \u001b[0;32mif\u001b[0m \u001b[0mis_integer\u001b[0m\u001b[0;34m(\u001b[0m\u001b[0mindexer\u001b[0m\u001b[0;34m)\u001b[0m\u001b[0;34m:\u001b[0m\u001b[0;34m\u001b[0m\u001b[0;34m\u001b[0m\u001b[0m\n\u001b[1;32m   2908\u001b[0m                 \u001b[0mindexer\u001b[0m \u001b[0;34m=\u001b[0m \u001b[0;34m[\u001b[0m\u001b[0mindexer\u001b[0m\u001b[0;34m]\u001b[0m\u001b[0;34m\u001b[0m\u001b[0;34m\u001b[0m\u001b[0m\n",
            "\u001b[0;32m/usr/local/lib/python3.7/dist-packages/pandas/core/indexes/base.py\u001b[0m in \u001b[0;36mget_loc\u001b[0;34m(self, key, method, tolerance)\u001b[0m\n\u001b[1;32m   2898\u001b[0m                 \u001b[0;32mreturn\u001b[0m \u001b[0mself\u001b[0m\u001b[0;34m.\u001b[0m\u001b[0m_engine\u001b[0m\u001b[0;34m.\u001b[0m\u001b[0mget_loc\u001b[0m\u001b[0;34m(\u001b[0m\u001b[0mcasted_key\u001b[0m\u001b[0;34m)\u001b[0m\u001b[0;34m\u001b[0m\u001b[0;34m\u001b[0m\u001b[0m\n\u001b[1;32m   2899\u001b[0m             \u001b[0;32mexcept\u001b[0m \u001b[0mKeyError\u001b[0m \u001b[0;32mas\u001b[0m \u001b[0merr\u001b[0m\u001b[0;34m:\u001b[0m\u001b[0;34m\u001b[0m\u001b[0;34m\u001b[0m\u001b[0m\n\u001b[0;32m-> 2900\u001b[0;31m                 \u001b[0;32mraise\u001b[0m \u001b[0mKeyError\u001b[0m\u001b[0;34m(\u001b[0m\u001b[0mkey\u001b[0m\u001b[0;34m)\u001b[0m \u001b[0;32mfrom\u001b[0m \u001b[0merr\u001b[0m\u001b[0;34m\u001b[0m\u001b[0;34m\u001b[0m\u001b[0m\n\u001b[0m\u001b[1;32m   2901\u001b[0m \u001b[0;34m\u001b[0m\u001b[0m\n\u001b[1;32m   2902\u001b[0m         \u001b[0;32mif\u001b[0m \u001b[0mtolerance\u001b[0m \u001b[0;32mis\u001b[0m \u001b[0;32mnot\u001b[0m \u001b[0;32mNone\u001b[0m\u001b[0;34m:\u001b[0m\u001b[0;34m\u001b[0m\u001b[0;34m\u001b[0m\u001b[0m\n",
            "\u001b[0;31mKeyError\u001b[0m: 'VIBRATION PAL1 C02.1 (MM/S).1'"
          ]
        }
      ]
    },
    {
      "cell_type": "code",
      "metadata": {
        "colab": {
          "base_uri": "https://localhost:8080/"
        },
        "id": "iAKd9dY1Ckja",
        "outputId": "eba14610-faba-490f-c00a-52b490a4081a"
      },
      "source": [
        "std_df.sum(axis = 0) == 0"
      ],
      "execution_count": null,
      "outputs": [
        {
          "output_type": "execute_result",
          "data": {
            "text/plain": [
              "EAU ACIDILE D10                False\n",
              "VIBRATION PAL1 C02 (MM/S)      False\n",
              "VIBRATION PAL1 C02 (MM/S).1    False\n",
              "TEMP PALIER1 C02 (DEGC)         True\n",
              "TEMP PALIER2 C02 (DEGC)        False\n",
              "C02M (A)                       False\n",
              "rolling_avg                    False\n",
              "dtype: bool"
            ]
          },
          "metadata": {
            "tags": []
          },
          "execution_count": 47
        }
      ]
    },
    {
      "cell_type": "markdown",
      "metadata": {
        "id": "HP5Bl2-79n3C"
      },
      "source": [
        ""
      ]
    }
  ]
}